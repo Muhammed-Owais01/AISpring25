{
 "cells": [
  {
   "cell_type": "code",
   "execution_count": 5,
   "metadata": {},
   "outputs": [],
   "source": [
    "import random"
   ]
  },
  {
   "attachments": {},
   "cell_type": "markdown",
   "metadata": {},
   "source": [
    "## Q1"
   ]
  },
  {
   "cell_type": "code",
   "execution_count": 2,
   "metadata": {},
   "outputs": [
    {
     "name": "stdout",
     "output_type": "stream",
     "text": [
      "\n",
      "Intial State:\n",
      "{'A': 1, 'B': 1, 'C': 1, 'D': 1, 'E': 1, 'F': 1, 'G': 0, 'H': 1, 'I': 1}\n",
      "\n",
      "Scanning:\n",
      "A is Safe\n",
      "B is Safe\n",
      "C is Safe\n",
      "D is Safe\n",
      "E is Safe\n",
      "F is Safe\n",
      "G is Vulnerable\n",
      "H is Safe\n",
      "I is Safe\n",
      "\n",
      "Patching:\n",
      "G patched!\n",
      "\n",
      "Final State:\n",
      "{'A': 1, 'B': 1, 'C': 1, 'D': 1, 'E': 1, 'F': 1, 'G': 1, 'H': 1, 'I': 1}\n"
     ]
    }
   ],
   "source": [
    "class Enviornment:\n",
    "    def __init__(self) -> None:\n",
    "        self.components = {chr(i): random.choice([0, 1]) for i in range(ord('A'), ord('I') + 1)}\n",
    "\n",
    "    def display_state(self):\n",
    "        print(self.components)\n",
    "\n",
    "    def get_components(self):\n",
    "        return self.components\n",
    "    \n",
    "    def set_component(self, component, state):\n",
    "        self.components[component] = state\n",
    "\n",
    "class SecurityAgent:\n",
    "    def __init__(self) -> None:\n",
    "        self._patching = []\n",
    "    \n",
    "    def scan(self, component, state):\n",
    "        if state == 0:\n",
    "            self._patching.append(component)\n",
    "            return f'{component} is Vulnerable'\n",
    "        else:\n",
    "            return f'{component} is Safe'\n",
    "        \n",
    "    def act(self, enviornment):\n",
    "        for component in self._patching:\n",
    "            enviornment.set_component(component, 1)\n",
    "            print(f\"{component} patched!\")\n",
    "\n",
    "def run_agent(agent, enviornment):\n",
    "    components = enviornment.get_components()\n",
    "    for component in components:\n",
    "        print(agent.scan(component, components[component]))\n",
    "        \n",
    "\n",
    "agent = SecurityAgent()\n",
    "enviornment = Enviornment()\n",
    "print('\\nIntial State:')\n",
    "enviornment.display_state()\n",
    "print('\\nScanning:')\n",
    "run_agent(agent, enviornment)\n",
    "print('\\nPatching:')\n",
    "agent.act(enviornment)\n",
    "print('\\nFinal State:')\n",
    "enviornment.display_state()"
   ]
  },
  {
   "attachments": {},
   "cell_type": "markdown",
   "metadata": {},
   "source": [
    "## Q2"
   ]
  },
  {
   "cell_type": "code",
   "execution_count": 6,
   "metadata": {},
   "outputs": [
    {
     "name": "stdout",
     "output_type": "stream",
     "text": [
      "\n",
      "Initial Servers: \n",
      "{'Server 1': 'Underloaded', 'Server 2': 'Underloaded', 'Server 3': 'Overloaded', 'Server 4': 'Balanced', 'Server 5': 'Balanced'}\n",
      "\n",
      "Scanning: \n",
      "\n",
      "Final State:\n",
      "{'Server 1': 'Balanced', 'Server 2': 'Underloaded', 'Server 3': 'Balanced', 'Server 4': 'Balanced', 'Server 5': 'Balanced'}\n"
     ]
    }
   ],
   "source": [
    "class Enviornment:\n",
    "    def __init__(self) -> None:\n",
    "        self.servers = {\"Server 1\": \"Underloaded\", \"Server 2\": \"Underloaded\", \"Server 3\": \"Overloaded\", \"Server 4\": \"Balanced\", \"Server 5\": \"Balanced\"}\n",
    "    \n",
    "    def display_servers(self):\n",
    "        print(self.servers)\n",
    "\n",
    "    def get_servers(self):\n",
    "        return self.servers\n",
    "\n",
    "    def set_server_load(self, component, state):\n",
    "        self.servers[component] = state\n",
    "\n",
    "class LoadBalancerAgent:\n",
    "    def __init__(self) -> None:\n",
    "        self.__underloaded = []\n",
    "        self.__overloaded = []\n",
    "    \n",
    "    def scan(self, server, state):\n",
    "        if state == 'Underloaded':\n",
    "            self.__underloaded.append(server)\n",
    "        elif state == 'Overloaded':\n",
    "            self.__overloaded.append(server)\n",
    "    \n",
    "    def act(self, set_server_load):\n",
    "        for overloaded_server in self.__overloaded:\n",
    "            set_server_load(overloaded_server, \"Balanced\")\n",
    "            set_server_load(self.__underloaded[0], \"Balanced\")\n",
    "            self.__underloaded.pop(0)\n",
    "            self.__overloaded.pop(0)\n",
    "\n",
    "def run_agent(enviornment, agent):\n",
    "    servers = enviornment.get_servers()\n",
    "    for server in servers:\n",
    "        agent.scan(server, servers[server])\n",
    "    \n",
    "    agent.act(enviornment.set_server_load)\n",
    "\n",
    "agent = LoadBalancerAgent()\n",
    "\n",
    "enviornment = Enviornment()\n",
    "print(\"\\nInitial Servers: \")\n",
    "enviornment.display_servers()\n",
    "print(\"\\nScanning: \")\n",
    "run_agent(enviornment, agent)\n",
    "print(\"\\nFinal State:\")\n",
    "enviornment.display_servers()\n"
   ]
  }
 ],
 "metadata": {
  "kernelspec": {
   "display_name": "Python 3",
   "language": "python",
   "name": "python3"
  },
  "language_info": {
   "codemirror_mode": {
    "name": "ipython",
    "version": 3
   },
   "file_extension": ".py",
   "mimetype": "text/x-python",
   "name": "python",
   "nbconvert_exporter": "python",
   "pygments_lexer": "ipython3",
   "version": "3.13.1"
  },
  "orig_nbformat": 4,
  "vscode": {
   "interpreter": {
    "hash": "aba79e3f8c9addc860dc1db0ba90a251b97a91793aa7bc9b1b74842f20aa64a3"
   }
  }
 },
 "nbformat": 4,
 "nbformat_minor": 2
}
